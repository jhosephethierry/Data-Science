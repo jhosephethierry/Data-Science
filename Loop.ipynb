{
 "cells": [
  {
   "cell_type": "code",
   "execution_count": 1,
   "metadata": {},
   "outputs": [
    {
     "name": "stdout",
     "output_type": "stream",
     "text": [
      "Andre\n",
      "Bruna\n",
      "Julia\n",
      "Ana\n",
      "Jhosephe\n",
      "Thierry\n"
     ]
    }
   ],
   "source": [
    "students = [\"Andre\", \"Bruna\", \"Julia\", \"Ana\", \"Jhosephe\", \"Thierry\"]\n",
    "\n",
    "for student in students:\n",
    "    \n",
    "    print(student)\n"
   ]
  },
  {
   "cell_type": "code",
   "execution_count": 6,
   "metadata": {},
   "outputs": [
    {
     "name": "stdout",
     "output_type": "stream",
     "text": [
      "A123 Andre\n",
      "A123 Bruna\n",
      "A123 Julia\n",
      "A123 Ana\n",
      "A123 Jhosephe\n",
      "A123 Thierry\n"
     ]
    }
   ],
   "source": [
    "students = [\"Andre\", \"Bruna\", \"Julia\", \"Ana\", \"Jhosephe\", \"Thierry\"]\n",
    "\n",
    "for student in students:\n",
    "    \n",
    "    studentId = 'A123 ' + student\n",
    "    \n",
    "    print(studentId)"
   ]
  },
  {
   "cell_type": "code",
   "execution_count": 7,
   "metadata": {},
   "outputs": [
    {
     "data": {
      "text/plain": [
       "['A123 Andre',\n",
       " 'A123 Bruna',\n",
       " 'A123 Julia',\n",
       " 'A123 Ana',\n",
       " 'A123 Jhosephe',\n",
       " 'A123 Thierry']"
      ]
     },
     "execution_count": 7,
     "metadata": {},
     "output_type": "execute_result"
    }
   ],
   "source": [
    "students = [\"Andre\", \"Bruna\", \"Julia\", \"Ana\", \"Jhosephe\", \"Thierry\"]\n",
    "ids = []\n",
    "\n",
    "for student in students:\n",
    "    \n",
    "    studentId = 'A123 ' + student\n",
    "    \n",
    "    ids.append(studentId)\n",
    "    \n",
    "ids\n"
   ]
  },
  {
   "cell_type": "code",
   "execution_count": 8,
   "metadata": {},
   "outputs": [
    {
     "name": "stdout",
     "output_type": "stream",
     "text": [
      "Ana\n",
      "Andre\n",
      "Bruna\n",
      "Jhosephe\n",
      "Julia\n",
      "Thierry\n"
     ]
    }
   ],
   "source": [
    "for x in sorted(students):\n",
    "    \n",
    "    print(x)"
   ]
  },
  {
   "cell_type": "code",
   "execution_count": null,
   "metadata": {},
   "outputs": [],
   "source": [
    "for x in reversed(students):\n",
    "    \n",
    "    print(x)"
   ]
  }
 ],
 "metadata": {
  "kernelspec": {
   "display_name": "Python 3",
   "language": "python",
   "name": "python3"
  },
  "language_info": {
   "codemirror_mode": {
    "name": "ipython",
    "version": 3
   },
   "file_extension": ".py",
   "mimetype": "text/x-python",
   "name": "python",
   "nbconvert_exporter": "python",
   "pygments_lexer": "ipython3",
   "version": "3.11.3"
  }
 },
 "nbformat": 4,
 "nbformat_minor": 2
}
